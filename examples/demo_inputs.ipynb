{
 "cells": [
  {
   "cell_type": "code",
   "execution_count": 1,
   "metadata": {
    "pycharm": {
     "name": "#%%\n"
    }
   },
   "outputs": [],
   "source": [
    "import os\n",
    "\n",
    "import numpy as np\n",
    "import pandas as pd\n",
    "\n",
    "import pint\n",
    "import sympy\n",
    "\n",
    "import sissotools\n",
    "from sissotools import io\n",
    "from sissotools import dimensional_analysis\n",
    "from sissotools import regression\n",
    "from sissotools import plotting"
   ]
  },
  {
   "cell_type": "code",
   "execution_count": 2,
   "metadata": {},
   "outputs": [],
   "source": [
    "%matplotlib inline"
   ]
  },
  {
   "cell_type": "markdown",
   "metadata": {
    "pycharm": {
     "name": "#%% md\n"
    }
   },
   "source": [
    "# I/O Options"
   ]
  },
  {
   "cell_type": "code",
   "execution_count": 3,
   "metadata": {
    "pycharm": {
     "name": "#%%\n"
    }
   },
   "outputs": [],
   "source": [
    "input_filename = \"./data_AD.txt\"\n",
    "working_directory = \"./demo\""
   ]
  },
  {
   "cell_type": "code",
   "execution_count": 4,
   "metadata": {},
   "outputs": [],
   "source": [
    "if not os.path.isdir(working_directory):\n",
    "    os.mkdir(working_directory)"
   ]
  },
  {
   "cell_type": "markdown",
   "metadata": {},
   "source": [
    "# Read Data"
   ]
  },
  {
   "cell_type": "code",
   "execution_count": 5,
   "metadata": {
    "pycharm": {
     "name": "#%%\n"
    }
   },
   "outputs": [],
   "source": [
    "# parse tab-separated-value file\n",
    "df_ad = io.read_tsv(input_filename)"
   ]
  },
  {
   "cell_type": "code",
   "execution_count": 6,
   "metadata": {
    "pycharm": {
     "name": "#%%\n"
    }
   },
   "outputs": [
    {
     "data": {
      "text/html": [
       "<div>\n",
       "<style scoped>\n",
       "    .dataframe tbody tr th:only-of-type {\n",
       "        vertical-align: middle;\n",
       "    }\n",
       "\n",
       "    .dataframe tbody tr th {\n",
       "        vertical-align: top;\n",
       "    }\n",
       "\n",
       "    .dataframe thead th {\n",
       "        text-align: right;\n",
       "    }\n",
       "</style>\n",
       "<table border=\"1\" class=\"dataframe\">\n",
       "  <thead>\n",
       "    <tr style=\"text-align: right;\">\n",
       "      <th></th>\n",
       "      <th>Tc</th>\n",
       "      <th>wlog</th>\n",
       "      <th>w1</th>\n",
       "      <th>w2</th>\n",
       "      <th>wph</th>\n",
       "      <th>eta</th>\n",
       "      <th>lambd</th>\n",
       "      <th>mus</th>\n",
       "    </tr>\n",
       "    <tr>\n",
       "      <th>material</th>\n",
       "      <th></th>\n",
       "      <th></th>\n",
       "      <th></th>\n",
       "      <th></th>\n",
       "      <th></th>\n",
       "      <th></th>\n",
       "      <th></th>\n",
       "      <th></th>\n",
       "    </tr>\n",
       "  </thead>\n",
       "  <tbody>\n",
       "    <tr>\n",
       "      <th>Pb</th>\n",
       "      <td>7.20</td>\n",
       "      <td>56.0</td>\n",
       "      <td>60.0</td>\n",
       "      <td>65.0</td>\n",
       "      <td>110.0</td>\n",
       "      <td>2.4</td>\n",
       "      <td>1.550</td>\n",
       "      <td>0.105</td>\n",
       "    </tr>\n",
       "    <tr>\n",
       "      <th>In</th>\n",
       "      <td>3.40</td>\n",
       "      <td>68.0</td>\n",
       "      <td>79.0</td>\n",
       "      <td>89.0</td>\n",
       "      <td>179.0</td>\n",
       "      <td>1.3</td>\n",
       "      <td>0.805</td>\n",
       "      <td>0.097</td>\n",
       "    </tr>\n",
       "    <tr>\n",
       "      <th>Sn</th>\n",
       "      <td>3.75</td>\n",
       "      <td>99.0</td>\n",
       "      <td>110.0</td>\n",
       "      <td>121.0</td>\n",
       "      <td>209.0</td>\n",
       "      <td>2.2</td>\n",
       "      <td>0.720</td>\n",
       "      <td>0.092</td>\n",
       "    </tr>\n",
       "    <tr>\n",
       "      <th>Hg</th>\n",
       "      <td>4.19</td>\n",
       "      <td>29.0</td>\n",
       "      <td>38.0</td>\n",
       "      <td>49.0</td>\n",
       "      <td>162.0</td>\n",
       "      <td>1.4</td>\n",
       "      <td>1.600</td>\n",
       "      <td>0.098</td>\n",
       "    </tr>\n",
       "    <tr>\n",
       "      <th>Tl</th>\n",
       "      <td>2.36</td>\n",
       "      <td>52.0</td>\n",
       "      <td>58.0</td>\n",
       "      <td>64.0</td>\n",
       "      <td>127.0</td>\n",
       "      <td>1.2</td>\n",
       "      <td>0.795</td>\n",
       "      <td>0.111</td>\n",
       "    </tr>\n",
       "    <tr>\n",
       "      <th>Ta</th>\n",
       "      <td>4.48</td>\n",
       "      <td>132.0</td>\n",
       "      <td>140.0</td>\n",
       "      <td>148.0</td>\n",
       "      <td>228.0</td>\n",
       "      <td>4.9</td>\n",
       "      <td>0.690</td>\n",
       "      <td>0.093</td>\n",
       "    </tr>\n",
       "    <tr>\n",
       "      <th>alpha-Ga</th>\n",
       "      <td>8.56</td>\n",
       "      <td>55.0</td>\n",
       "      <td>77.0</td>\n",
       "      <td>101.0</td>\n",
       "      <td>291.0</td>\n",
       "      <td>2.1</td>\n",
       "      <td>1.620</td>\n",
       "      <td>0.095</td>\n",
       "    </tr>\n",
       "    <tr>\n",
       "      <th>beta-Ga</th>\n",
       "      <td>5.90</td>\n",
       "      <td>87.0</td>\n",
       "      <td>108.0</td>\n",
       "      <td>129.0</td>\n",
       "      <td>285.0</td>\n",
       "      <td>2.0</td>\n",
       "      <td>0.970</td>\n",
       "      <td>0.092</td>\n",
       "    </tr>\n",
       "    <tr>\n",
       "      <th>Tl0.9Bi0.1</th>\n",
       "      <td>2.30</td>\n",
       "      <td>48.0</td>\n",
       "      <td>55.0</td>\n",
       "      <td>62.0</td>\n",
       "      <td>120.0</td>\n",
       "      <td>1.1</td>\n",
       "      <td>0.780</td>\n",
       "      <td>0.099</td>\n",
       "    </tr>\n",
       "    <tr>\n",
       "      <th>Pb0.4Tl0.6</th>\n",
       "      <td>4.60</td>\n",
       "      <td>48.0</td>\n",
       "      <td>56.0</td>\n",
       "      <td>62.0</td>\n",
       "      <td>121.0</td>\n",
       "      <td>1.6</td>\n",
       "      <td>1.150</td>\n",
       "      <td>0.094</td>\n",
       "    </tr>\n",
       "    <tr>\n",
       "      <th>Pb0.6Tl0.4</th>\n",
       "      <td>5.90</td>\n",
       "      <td>50.0</td>\n",
       "      <td>57.0</td>\n",
       "      <td>62.0</td>\n",
       "      <td>119.0</td>\n",
       "      <td>2.0</td>\n",
       "      <td>1.380</td>\n",
       "      <td>0.103</td>\n",
       "    </tr>\n",
       "    <tr>\n",
       "      <th>Pb0.8Tl0.2</th>\n",
       "      <td>6.80</td>\n",
       "      <td>50.0</td>\n",
       "      <td>56.0</td>\n",
       "      <td>61.0</td>\n",
       "      <td>116.0</td>\n",
       "      <td>2.1</td>\n",
       "      <td>1.530</td>\n",
       "      <td>0.101</td>\n",
       "    </tr>\n",
       "    <tr>\n",
       "      <th>Pb0.6Tl0.2Bi0.2</th>\n",
       "      <td>7.26</td>\n",
       "      <td>48.0</td>\n",
       "      <td>53.0</td>\n",
       "      <td>58.0</td>\n",
       "      <td>112.0</td>\n",
       "      <td>2.3</td>\n",
       "      <td>1.810</td>\n",
       "      <td>0.111</td>\n",
       "    </tr>\n",
       "    <tr>\n",
       "      <th>Pb0.9Bi0.1</th>\n",
       "      <td>7.65</td>\n",
       "      <td>50.0</td>\n",
       "      <td>56.0</td>\n",
       "      <td>60.0</td>\n",
       "      <td>108.0</td>\n",
       "      <td>2.2</td>\n",
       "      <td>1.660</td>\n",
       "      <td>0.081</td>\n",
       "    </tr>\n",
       "    <tr>\n",
       "      <th>Pb0.8Bi0.2</th>\n",
       "      <td>7.95</td>\n",
       "      <td>46.0</td>\n",
       "      <td>52.0</td>\n",
       "      <td>57.0</td>\n",
       "      <td>109.0</td>\n",
       "      <td>2.3</td>\n",
       "      <td>1.880</td>\n",
       "      <td>0.093</td>\n",
       "    </tr>\n",
       "    <tr>\n",
       "      <th>Pb0.7Bi0.3</th>\n",
       "      <td>8.45</td>\n",
       "      <td>47.0</td>\n",
       "      <td>52.0</td>\n",
       "      <td>57.0</td>\n",
       "      <td>110.0</td>\n",
       "      <td>2.4</td>\n",
       "      <td>2.010</td>\n",
       "      <td>0.092</td>\n",
       "    </tr>\n",
       "    <tr>\n",
       "      <th>Pb0.65Bi0.35</th>\n",
       "      <td>8.95</td>\n",
       "      <td>45.0</td>\n",
       "      <td>50.0</td>\n",
       "      <td>55.0</td>\n",
       "      <td>110.0</td>\n",
       "      <td>2.4</td>\n",
       "      <td>2.130</td>\n",
       "      <td>0.093</td>\n",
       "    </tr>\n",
       "    <tr>\n",
       "      <th>In0.9Tl0.1</th>\n",
       "      <td>3.28</td>\n",
       "      <td>63.0</td>\n",
       "      <td>75.0</td>\n",
       "      <td>86.0</td>\n",
       "      <td>176.0</td>\n",
       "      <td>1.4</td>\n",
       "      <td>0.850</td>\n",
       "      <td>0.103</td>\n",
       "    </tr>\n",
       "    <tr>\n",
       "      <th>In0.73Tl0.27</th>\n",
       "      <td>3.36</td>\n",
       "      <td>55.0</td>\n",
       "      <td>67.0</td>\n",
       "      <td>77.0</td>\n",
       "      <td>166.0</td>\n",
       "      <td>1.4</td>\n",
       "      <td>0.930</td>\n",
       "      <td>0.110</td>\n",
       "    </tr>\n",
       "    <tr>\n",
       "      <th>In0.67Tl0.33</th>\n",
       "      <td>3.26</td>\n",
       "      <td>57.0</td>\n",
       "      <td>68.0</td>\n",
       "      <td>79.0</td>\n",
       "      <td>167.0</td>\n",
       "      <td>1.4</td>\n",
       "      <td>0.900</td>\n",
       "      <td>0.110</td>\n",
       "    </tr>\n",
       "    <tr>\n",
       "      <th>In0.57Tl0.43</th>\n",
       "      <td>2.60</td>\n",
       "      <td>53.0</td>\n",
       "      <td>64.0</td>\n",
       "      <td>74.0</td>\n",
       "      <td>165.0</td>\n",
       "      <td>1.3</td>\n",
       "      <td>0.850</td>\n",
       "      <td>0.117</td>\n",
       "    </tr>\n",
       "    <tr>\n",
       "      <th>In0.5Tl0.5</th>\n",
       "      <td>2.52</td>\n",
       "      <td>53.0</td>\n",
       "      <td>64.0</td>\n",
       "      <td>73.0</td>\n",
       "      <td>163.0</td>\n",
       "      <td>1.3</td>\n",
       "      <td>0.830</td>\n",
       "      <td>0.110</td>\n",
       "    </tr>\n",
       "    <tr>\n",
       "      <th>In0.27Tl0.73</th>\n",
       "      <td>3.64</td>\n",
       "      <td>42.0</td>\n",
       "      <td>53.0</td>\n",
       "      <td>63.0</td>\n",
       "      <td>151.0</td>\n",
       "      <td>1.4</td>\n",
       "      <td>1.090</td>\n",
       "      <td>0.094</td>\n",
       "    </tr>\n",
       "    <tr>\n",
       "      <th>In0.17Tl0.83</th>\n",
       "      <td>3.19</td>\n",
       "      <td>45.0</td>\n",
       "      <td>55.0</td>\n",
       "      <td>63.0</td>\n",
       "      <td>144.0</td>\n",
       "      <td>1.3</td>\n",
       "      <td>0.980</td>\n",
       "      <td>0.101</td>\n",
       "    </tr>\n",
       "    <tr>\n",
       "      <th>In0.07Tl0.93</th>\n",
       "      <td>2.77</td>\n",
       "      <td>49.0</td>\n",
       "      <td>56.0</td>\n",
       "      <td>63.0</td>\n",
       "      <td>131.0</td>\n",
       "      <td>1.3</td>\n",
       "      <td>0.890</td>\n",
       "      <td>0.107</td>\n",
       "    </tr>\n",
       "    <tr>\n",
       "      <th>In2Bi</th>\n",
       "      <td>5.60</td>\n",
       "      <td>46.0</td>\n",
       "      <td>57.0</td>\n",
       "      <td>67.0</td>\n",
       "      <td>174.0</td>\n",
       "      <td>1.6</td>\n",
       "      <td>1.400</td>\n",
       "      <td>0.096</td>\n",
       "    </tr>\n",
       "    <tr>\n",
       "      <th>Sb2Tl7</th>\n",
       "      <td>5.20</td>\n",
       "      <td>37.0</td>\n",
       "      <td>48.0</td>\n",
       "      <td>58.0</td>\n",
       "      <td>134.0</td>\n",
       "      <td>1.6</td>\n",
       "      <td>1.430</td>\n",
       "      <td>0.102</td>\n",
       "    </tr>\n",
       "    <tr>\n",
       "      <th>Bi2Tl</th>\n",
       "      <td>6.40</td>\n",
       "      <td>47.0</td>\n",
       "      <td>53.0</td>\n",
       "      <td>59.0</td>\n",
       "      <td>120.0</td>\n",
       "      <td>2.1</td>\n",
       "      <td>1.630</td>\n",
       "      <td>0.101</td>\n",
       "    </tr>\n",
       "    <tr>\n",
       "      <th>alpha-Pb0.45Bi0.55</th>\n",
       "      <td>7.00</td>\n",
       "      <td>29.0</td>\n",
       "      <td>38.0</td>\n",
       "      <td>47.0</td>\n",
       "      <td>128.0</td>\n",
       "      <td>2.1</td>\n",
       "      <td>2.590</td>\n",
       "      <td>0.116</td>\n",
       "    </tr>\n",
       "  </tbody>\n",
       "</table>\n",
       "</div>"
      ],
      "text/plain": [
       "                      Tc   wlog     w1     w2    wph  eta  lambd    mus\n",
       "material                                                               \n",
       "Pb                  7.20   56.0   60.0   65.0  110.0  2.4  1.550  0.105\n",
       "In                  3.40   68.0   79.0   89.0  179.0  1.3  0.805  0.097\n",
       "Sn                  3.75   99.0  110.0  121.0  209.0  2.2  0.720  0.092\n",
       "Hg                  4.19   29.0   38.0   49.0  162.0  1.4  1.600  0.098\n",
       "Tl                  2.36   52.0   58.0   64.0  127.0  1.2  0.795  0.111\n",
       "Ta                  4.48  132.0  140.0  148.0  228.0  4.9  0.690  0.093\n",
       "alpha-Ga            8.56   55.0   77.0  101.0  291.0  2.1  1.620  0.095\n",
       "beta-Ga             5.90   87.0  108.0  129.0  285.0  2.0  0.970  0.092\n",
       "Tl0.9Bi0.1          2.30   48.0   55.0   62.0  120.0  1.1  0.780  0.099\n",
       "Pb0.4Tl0.6          4.60   48.0   56.0   62.0  121.0  1.6  1.150  0.094\n",
       "Pb0.6Tl0.4          5.90   50.0   57.0   62.0  119.0  2.0  1.380  0.103\n",
       "Pb0.8Tl0.2          6.80   50.0   56.0   61.0  116.0  2.1  1.530  0.101\n",
       "Pb0.6Tl0.2Bi0.2     7.26   48.0   53.0   58.0  112.0  2.3  1.810  0.111\n",
       "Pb0.9Bi0.1          7.65   50.0   56.0   60.0  108.0  2.2  1.660  0.081\n",
       "Pb0.8Bi0.2          7.95   46.0   52.0   57.0  109.0  2.3  1.880  0.093\n",
       "Pb0.7Bi0.3          8.45   47.0   52.0   57.0  110.0  2.4  2.010  0.092\n",
       "Pb0.65Bi0.35        8.95   45.0   50.0   55.0  110.0  2.4  2.130  0.093\n",
       "In0.9Tl0.1          3.28   63.0   75.0   86.0  176.0  1.4  0.850  0.103\n",
       "In0.73Tl0.27        3.36   55.0   67.0   77.0  166.0  1.4  0.930  0.110\n",
       "In0.67Tl0.33        3.26   57.0   68.0   79.0  167.0  1.4  0.900  0.110\n",
       "In0.57Tl0.43        2.60   53.0   64.0   74.0  165.0  1.3  0.850  0.117\n",
       "In0.5Tl0.5          2.52   53.0   64.0   73.0  163.0  1.3  0.830  0.110\n",
       "In0.27Tl0.73        3.64   42.0   53.0   63.0  151.0  1.4  1.090  0.094\n",
       "In0.17Tl0.83        3.19   45.0   55.0   63.0  144.0  1.3  0.980  0.101\n",
       "In0.07Tl0.93        2.77   49.0   56.0   63.0  131.0  1.3  0.890  0.107\n",
       "In2Bi               5.60   46.0   57.0   67.0  174.0  1.6  1.400  0.096\n",
       "Sb2Tl7              5.20   37.0   48.0   58.0  134.0  1.6  1.430  0.102\n",
       "Bi2Tl               6.40   47.0   53.0   59.0  120.0  2.1  1.630  0.101\n",
       "alpha-Pb0.45Bi0.55  7.00   29.0   38.0   47.0  128.0  2.1  2.590  0.116"
      ]
     },
     "execution_count": 6,
     "metadata": {},
     "output_type": "execute_result"
    }
   ],
   "source": [
    "df_ad"
   ]
  },
  {
   "cell_type": "markdown",
   "metadata": {},
   "source": [
    "# Data Inspection"
   ]
  },
  {
   "cell_type": "code",
   "execution_count": 7,
   "metadata": {},
   "outputs": [],
   "source": [
    "# consider the target and a subset of features\n",
    "column_names = [\"Tc\", \"lambd\", \"wlog\", \"w2\", \"mus\"]"
   ]
  },
  {
   "cell_type": "code",
   "execution_count": 8,
   "metadata": {},
   "outputs": [],
   "source": [
    "# substitutions for visualization\n",
    "latex_subs = {\"mus\": r\"\\mu^{\\ast}\",\n",
    "              \"wlog\": r\"\\omega_{\\mathrm{log}}\",\n",
    "              \"w2\": r\"\\omega_2\",\n",
    "              'lambd': r\"\\lambda\",\n",
    "              'Tc': r\"T_c\"}\n",
    "label_substitutions = {k: r\"${}$\".format(v) for k, v in latex_subs.items()}"
   ]
  },
  {
   "cell_type": "code",
   "execution_count": 9,
   "metadata": {},
   "outputs": [
    {
     "data": {
      "image/png": "[encoded data removed]",
      "text/plain": [
       "<Figure size 900x600 with 6 Axes>"
      ]
     },
     "metadata": {
      "needs_background": "light"
     },
     "output_type": "display_data"
    }
   ],
   "source": [
    "# visualize target and feature distributions\n",
    "fig, ax = plotting.plot_distributions(df_ad, \n",
    "                                      column_names,\n",
    "                                      label_substitutions=label_substitutions)\n",
    "fig.tight_layout()"
   ]
  },
  {
   "cell_type": "markdown",
   "metadata": {},
   "source": [
    "# Unit checking"
   ]
  },
  {
   "cell_type": "code",
   "execution_count": 10,
   "metadata": {
    "pycharm": {
     "name": "#%%\n"
    }
   },
   "outputs": [],
   "source": [
    "# Consider known equations (McMillan 1968, Allen and Dynes 1975)\n",
    "expr_mm = r'wlog / 1.2 * exp((-1.04 * (1 + lambd)) / (lambd - mus * (1 + 0.62 * lambd)))'\n",
    "\n",
    "expr_f1 = r'((1 + ((lambd/(2.46*(1 + 3.8 * mus)))**1.5))**(1/3))'\n",
    "expr_f2 = r'(1 + (((w2/wlog) - 1) * lambd**2)/(lambd**2 + (1.82*(1 + 6.3*mus)*(w2/wlog))**2))'\n",
    "expr_ad = r'({}) * ({}) * ({})'.format(expr_mm, expr_f1, expr_f2)"
   ]
  },
  {
   "cell_type": "code",
   "execution_count": 11,
   "metadata": {
    "pycharm": {
     "name": "#%%\n"
    }
   },
   "outputs": [],
   "source": [
    "# Dummy equation\n",
    "expr_dummy = r\"wlog * w2 * lambd * mus\"\n",
    "\n",
    "# Invalid equations\n",
    "expr_dims = r\"wlog - lambd\"\n",
    "expr_zero = r\"w2 / (wlog - wlog)\""
   ]
  },
  {
   "cell_type": "code",
   "execution_count": 12,
   "metadata": {
    "pycharm": {
     "name": "#%%\n"
    }
   },
   "outputs": [],
   "source": [
    "# Define units per feature\n",
    "unit_ref = {'wlog': 'K',\n",
    "            'w2': 'K',\n",
    "            'lambd': 'dimensionless',\n",
    "            'mus': 'dimensionless'}"
   ]
  },
  {
   "cell_type": "code",
   "execution_count": 13,
   "metadata": {},
   "outputs": [
    {
     "name": "stdout",
     "output_type": "stream",
     "text": [
      "Name                                Units [Degree]\n",
      "==================================================\n",
      "McMillan Equation             temperature [1]\n",
      "Allen-Dynes f1              dimensionless [0]\n",
      "Allen-Dynes f2              dimensionless [0]\n",
      "Allen-Dynes Equation          temperature [1]\n",
      "\n",
      "Dummy equation               temperature [2]\n",
      "Invalid equation       Dimension Mismatch [0]\n",
      "Invalid equation            Zero Division [0]\n"
     ]
    }
   ],
   "source": [
    "# Check units\n",
    "expr_list = [expr_mm, expr_f1, expr_f2, expr_ad, \n",
    "             expr_dummy, expr_dims, expr_zero]\n",
    "name_list = [\"McMillan Equation\", \n",
    "             \"Allen-Dynes f1\",\n",
    "             \"Allen-Dynes f2\",\n",
    "             \"Allen-Dynes Equation\",\n",
    "             \"\\nDummy equation\",\n",
    "             \"Invalid equation\",\n",
    "             \"Invalid equation\"]\n",
    "\n",
    "print(\"{0:<20} {1:>20} [{2}]\".format(\"Name\", \"Units\", \"Degree\"))\n",
    "print(\"=\"*50)\n",
    "for expr, name in zip(expr_list, name_list):\n",
    "    dims, degree = dimensional_analysis.check_dimensionality(expr, \n",
    "                                                             unit_ref)\n",
    "    dims = dims.replace('[', '').replace(']', '')\n",
    "    print(\"{0:<20} {1:>20} [{2}]\".format(name, dims, degree))"
   ]
  },
  {
   "cell_type": "markdown",
   "metadata": {},
   "source": [
    "# Evaluating models"
   ]
  },
  {
   "cell_type": "code",
   "execution_count": 14,
   "metadata": {},
   "outputs": [
    {
     "data": {
      "image/png": "[encoded data removed]",
      "text/plain": [
       "<Figure size 700x700 with 1 Axes>"
      ]
     },
     "metadata": {
      "needs_background": "light"
     },
     "output_type": "display_data"
    },
    {
     "data": {
      "image/png": "[encoded data removed]",
      "text/plain": [
       "<Figure size 700x700 with 1 Axes>"
      ]
     },
     "metadata": {
      "needs_background": "light"
     },
     "output_type": "display_data"
    }
   ],
   "source": [
    "# Predict Tc using equations\n",
    "slope = 1 # no slope\n",
    "intercept = 0  # no intercept\n",
    "coefficients = (slope, intercept)\n",
    "\n",
    "features = column_names[1:]  # subset of features\n",
    "\n",
    "values_mm, _ = regression.evaluate_model(expr_mm, \n",
    "                                         df_ad, \n",
    "                                         features,\n",
    "                                         coefficients)\n",
    "values_ad, _ = regression.evaluate_model(expr_ad, \n",
    "                                         df_ad, \n",
    "                                         features,\n",
    "                                         coefficients)\n",
    "\n",
    "# Validate against experimental reference measurements\n",
    "fig, ax = plotting.pretty_scatter(df_ad['Tc'], values_mm, units=\"K\")\n",
    "ax.set_title(\"McMillan Equation\")\n",
    "fig.tight_layout()\n",
    "\n",
    "fig, ax = plotting.pretty_scatter(df_ad['Tc'], values_ad, units=\"K\")\n",
    "ax.set_title(\"Allen-Dynes Equation\")\n",
    "fig.tight_layout()"
   ]
  },
  {
   "cell_type": "markdown",
   "metadata": {},
   "source": [
    "# Writing SISSO inputs"
   ]
  },
  {
   "cell_type": "code",
   "execution_count": 15,
   "metadata": {},
   "outputs": [],
   "source": [
    "# train.dat\n",
    "column_names = [\"Tc\", \"wlog\", \"lambd\", \"mus\"]  # feature subset\n",
    "df_train = df_ad[column_names]\n",
    "\n",
    "filename = os.path.join(working_directory, \"train.dat\")\n",
    "io.create_tsv(df_train, filename)"
   ]
  },
  {
   "cell_type": "code",
   "execution_count": 16,
   "metadata": {},
   "outputs": [],
   "source": [
    "# the first dimension group includes the first feature\n",
    "dimension_groups = \"(1:1)\"  \n",
    "# ungrouped features (i.e. 2 and 3) are dimensionless\n",
    "\n",
    "n_iterations = 3                     # number of subpsace expansion iterations (max 3)\n",
    "n_train = len(df_train)              # number of training samples\n",
    "n_features = len(column_names) - 1   # number of features\n",
    "n_sis = 1000                         # SIS subspace size\n",
    "n_models = 1000                      # number of models to save\n",
    "\n",
    "problem_type = 1  # regression\n",
    "operation_set = \"'(+)(-)(*)(/)(exp)(exp-)(^-1)(^2)(^3)(sqrt)(log)'\"\n",
    "fit_intercept = False\n",
    "\n",
    "parameters = dict(ptype=problem_type,\n",
    "                  dimclass=dimension_groups,\n",
    "                  rung=n_iterations,\n",
    "                  opset=operation_set,\n",
    "                  nsample=n_train,\n",
    "                  nsf=n_features, \n",
    "                  subs_sis=n_sis, \n",
    "                  nm_output=n_models,\n",
    "                  fit_intercept=fit_intercept)\n",
    "\n",
    "filename = os.path.join(working_directory, \"SISSO.in\")\n",
    "io.create_sisso_input(parameters, filename=filename)"
   ]
  },
  {
   "cell_type": "code",
   "execution_count": null,
   "metadata": {},
   "outputs": [],
   "source": []
  }
 ],
 "metadata": {
  "kernelspec": {
   "display_name": "Python 3",
   "language": "python",
   "name": "python3"
  },
  "language_info": {
   "codemirror_mode": {
    "name": "ipython",
    "version": 3
   },
   "file_extension": ".py",
   "mimetype": "text/x-python",
   "name": "python",
   "nbconvert_exporter": "python",
   "pygments_lexer": "ipython3",
   "version": "3.6.13"
  }
 },
 "nbformat": 4,
 "nbformat_minor": 4
}
