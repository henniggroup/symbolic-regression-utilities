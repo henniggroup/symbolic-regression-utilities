{
 "cells": [
  {
   "cell_type": "code",
   "execution_count": 1,
   "metadata": {
    "pycharm": {
     "name": "#%%\n"
    }
   },
   "outputs": [],
   "source": [
    "import os\n",
    "import fnmatch\n",
    "\n",
    "import numpy as np\n",
    "import pandas as pd\n",
    "\n",
    "import pint\n",
    "import sympy\n",
    "\n",
    "import sissotools\n",
    "from sissotools import io\n",
    "from sissotools import dimensional_analysis\n",
    "from sissotools import regression\n",
    "from sissotools import plotting"
   ]
  },
  {
   "cell_type": "code",
   "execution_count": 2,
   "metadata": {},
   "outputs": [],
   "source": [
    "try:\n",
    "    from tqdm import tqdm\n",
    "except ImportError:\n",
    "    # Optional import\n",
    "    class tqdm:\n",
    "        \"\"\"Progress bar placeholder\"\"\"\n",
    "        def __init__(self, iterable=None, total=0):\n",
    "            self.count = 0\n",
    "            self.total = total\n",
    "            if iterable is not None:\n",
    "                self.iterable = iterable\n",
    "                if hasattr(iterable, \"__len__\"):\n",
    "                    self.total = len(iterable)\n",
    "            else:\n",
    "                self.iterable = []\n",
    "        \n",
    "        def __iter__(self):\n",
    "                for obj in self.iterable:\n",
    "                    self.count += 1\n",
    "                    print(self.count, \"/\", self.total)\n",
    "                    yield obj\n",
    "        \n",
    "        def update(self, n=1):\n",
    "            self.count += n\n",
    "            print(self.count, \"/\", self.total)"
   ]
  },
  {
   "cell_type": "code",
   "execution_count": 3,
   "metadata": {},
   "outputs": [],
   "source": [
    "%matplotlib inline"
   ]
  },
  {
   "cell_type": "markdown",
   "metadata": {
    "pycharm": {
     "name": "#%% md\n"
    }
   },
   "source": [
    "# I/O Options"
   ]
  },
  {
   "cell_type": "code",
   "execution_count": 4,
   "metadata": {
    "pycharm": {
     "name": "#%%\n"
    }
   },
   "outputs": [],
   "source": [
    "input_filename = \"./data_AD.txt\"\n",
    "working_directory = \"./demo\""
   ]
  },
  {
   "cell_type": "code",
   "execution_count": 5,
   "metadata": {},
   "outputs": [],
   "source": [
    "features_fname = os.path.join(working_directory, \"feature_space/Uspace.name\")\n",
    "\n",
    "file_list = os.listdir(os.path.join(working_directory, \"models\"))\n",
    "models_fname = fnmatch.filter(file_list, \"top*0_001d\").pop()\n",
    "models_fname = os.path.join(working_directory, \"models\", models_fname)\n",
    "\n",
    "coeff_fname = fnmatch.filter(file_list, \"top*_001d_coeff\").pop()\n",
    "coeff_fname = os.path.join(working_directory, \"models\", coeff_fname)\n",
    "\n",
    "file_checks = [os.path.isfile(fname) for fname \n",
    "               in [features_fname, models_fname, coeff_fname]]\n",
    "if not all(file_checks):\n",
    "    raise RuntimeError(\"Please ensure demo_inputs.ipynb has completed.\")"
   ]
  },
  {
   "cell_type": "markdown",
   "metadata": {},
   "source": [
    "# Read Files"
   ]
  },
  {
   "cell_type": "code",
   "execution_count": 6,
   "metadata": {
    "pycharm": {
     "name": "#%%\n"
    }
   },
   "outputs": [],
   "source": [
    "# parse tab-separated-value file\n",
    "df_train = io.read_tsv(input_filename)\n",
    "\n",
    "# parse SISSO outputs\n",
    "df_features = io.read_features(features_fname)\n",
    "df_models = io.read_models(models_fname)\n",
    "df_coeff = io.read_coefficients(coeff_fname)"
   ]
  },
  {
   "cell_type": "code",
   "execution_count": 7,
   "metadata": {},
   "outputs": [
    {
     "data": {
      "text/html": [
       "<div>\n",
       "<style scoped>\n",
       "    .dataframe tbody tr th:only-of-type {\n",
       "        vertical-align: middle;\n",
       "    }\n",
       "\n",
       "    .dataframe tbody tr th {\n",
       "        vertical-align: top;\n",
       "    }\n",
       "\n",
       "    .dataframe thead th {\n",
       "        text-align: right;\n",
       "    }\n",
       "</style>\n",
       "<table border=\"1\" class=\"dataframe\">\n",
       "  <thead>\n",
       "    <tr style=\"text-align: right;\">\n",
       "      <th></th>\n",
       "      <th>Feature</th>\n",
       "      <th>Correlation</th>\n",
       "    </tr>\n",
       "  </thead>\n",
       "  <tbody>\n",
       "    <tr>\n",
       "      <th>1</th>\n",
       "      <td>(((mus*wlog)-wlog)*((lambd-mus)-sqrt(mus)))</td>\n",
       "      <td>0.9933</td>\n",
       "    </tr>\n",
       "    <tr>\n",
       "      <th>2</th>\n",
       "      <td>(((lambd-mus)-sqrt(mus))/(exp(mus)/wlog))</td>\n",
       "      <td>0.9933</td>\n",
       "    </tr>\n",
       "    <tr>\n",
       "      <th>3</th>\n",
       "      <td>(((lambd-mus)-sqrt(mus))/((wlog)^-1+(mus/wlog)))</td>\n",
       "      <td>0.9933</td>\n",
       "    </tr>\n",
       "    <tr>\n",
       "      <th>4</th>\n",
       "      <td>((log(wlog)*(mus*wlog))-(wlog*(mus+lambd)))</td>\n",
       "      <td>0.9931</td>\n",
       "    </tr>\n",
       "    <tr>\n",
       "      <th>5</th>\n",
       "      <td>(((wlog*lambd)/sqrt(mus))-(wlog/(mus+lambd)))</td>\n",
       "      <td>0.9930</td>\n",
       "    </tr>\n",
       "  </tbody>\n",
       "</table>\n",
       "</div>"
      ],
      "text/plain": [
       "                                            Feature  Correlation\n",
       "1       (((mus*wlog)-wlog)*((lambd-mus)-sqrt(mus)))       0.9933\n",
       "2         (((lambd-mus)-sqrt(mus))/(exp(mus)/wlog))       0.9933\n",
       "3  (((lambd-mus)-sqrt(mus))/((wlog)^-1+(mus/wlog)))       0.9933\n",
       "4       ((log(wlog)*(mus*wlog))-(wlog*(mus+lambd)))       0.9931\n",
       "5     (((wlog*lambd)/sqrt(mus))-(wlog/(mus+lambd)))       0.9930"
      ]
     },
     "execution_count": 7,
     "metadata": {},
     "output_type": "execute_result"
    }
   ],
   "source": [
    "df_features.head()  # feature_space/Uspace.name"
   ]
  },
  {
   "cell_type": "code",
   "execution_count": 8,
   "metadata": {},
   "outputs": [
    {
     "data": {
      "text/html": [
       "<div>\n",
       "<style scoped>\n",
       "    .dataframe tbody tr th:only-of-type {\n",
       "        vertical-align: middle;\n",
       "    }\n",
       "\n",
       "    .dataframe tbody tr th {\n",
       "        vertical-align: top;\n",
       "    }\n",
       "\n",
       "    .dataframe thead th {\n",
       "        text-align: right;\n",
       "    }\n",
       "</style>\n",
       "<table border=\"1\" class=\"dataframe\">\n",
       "  <thead>\n",
       "    <tr style=\"text-align: right;\">\n",
       "      <th></th>\n",
       "      <th>rmse</th>\n",
       "      <th>mae</th>\n",
       "      <th>feature id</th>\n",
       "    </tr>\n",
       "    <tr>\n",
       "      <th>model index</th>\n",
       "      <th></th>\n",
       "      <th></th>\n",
       "      <th></th>\n",
       "    </tr>\n",
       "  </thead>\n",
       "  <tbody>\n",
       "    <tr>\n",
       "      <th>1</th>\n",
       "      <td>0.251624</td>\n",
       "      <td>0.655874</td>\n",
       "      <td>13</td>\n",
       "    </tr>\n",
       "    <tr>\n",
       "      <th>2</th>\n",
       "      <td>0.251782</td>\n",
       "      <td>0.746856</td>\n",
       "      <td>11</td>\n",
       "    </tr>\n",
       "    <tr>\n",
       "      <th>3</th>\n",
       "      <td>0.262698</td>\n",
       "      <td>0.807561</td>\n",
       "      <td>4</td>\n",
       "    </tr>\n",
       "    <tr>\n",
       "      <th>4</th>\n",
       "      <td>0.267091</td>\n",
       "      <td>0.731557</td>\n",
       "      <td>31</td>\n",
       "    </tr>\n",
       "    <tr>\n",
       "      <th>5</th>\n",
       "      <td>0.267385</td>\n",
       "      <td>0.666787</td>\n",
       "      <td>41</td>\n",
       "    </tr>\n",
       "  </tbody>\n",
       "</table>\n",
       "</div>"
      ],
      "text/plain": [
       "                 rmse       mae  feature id\n",
       "model index                                \n",
       "1            0.251624  0.655874          13\n",
       "2            0.251782  0.746856          11\n",
       "3            0.262698  0.807561           4\n",
       "4            0.267091  0.731557          31\n",
       "5            0.267385  0.666787          41"
      ]
     },
     "execution_count": 8,
     "metadata": {},
     "output_type": "execute_result"
    }
   ],
   "source": [
    "df_models.head()  # models/\"top*0_001d\""
   ]
  },
  {
   "cell_type": "code",
   "execution_count": 9,
   "metadata": {},
   "outputs": [
    {
     "data": {
      "text/html": [
       "<div>\n",
       "<style scoped>\n",
       "    .dataframe tbody tr th:only-of-type {\n",
       "        vertical-align: middle;\n",
       "    }\n",
       "\n",
       "    .dataframe tbody tr th {\n",
       "        vertical-align: top;\n",
       "    }\n",
       "\n",
       "    .dataframe thead th {\n",
       "        text-align: right;\n",
       "    }\n",
       "</style>\n",
       "<table border=\"1\" class=\"dataframe\">\n",
       "  <thead>\n",
       "    <tr style=\"text-align: right;\">\n",
       "      <th></th>\n",
       "      <th>intercept</th>\n",
       "      <th>slope</th>\n",
       "    </tr>\n",
       "    <tr>\n",
       "      <th>model index</th>\n",
       "      <th></th>\n",
       "      <th></th>\n",
       "    </tr>\n",
       "  </thead>\n",
       "  <tbody>\n",
       "    <tr>\n",
       "      <th>1</th>\n",
       "      <td>0.0</td>\n",
       "      <td>0.095264</td>\n",
       "    </tr>\n",
       "    <tr>\n",
       "      <th>2</th>\n",
       "      <td>0.0</td>\n",
       "      <td>0.023109</td>\n",
       "    </tr>\n",
       "    <tr>\n",
       "      <th>3</th>\n",
       "      <td>0.0</td>\n",
       "      <td>-0.105638</td>\n",
       "    </tr>\n",
       "    <tr>\n",
       "      <th>4</th>\n",
       "      <td>0.0</td>\n",
       "      <td>-0.101614</td>\n",
       "    </tr>\n",
       "    <tr>\n",
       "      <th>5</th>\n",
       "      <td>0.0</td>\n",
       "      <td>-0.094123</td>\n",
       "    </tr>\n",
       "  </tbody>\n",
       "</table>\n",
       "</div>"
      ],
      "text/plain": [
       "             intercept     slope\n",
       "model index                     \n",
       "1                  0.0  0.095264\n",
       "2                  0.0  0.023109\n",
       "3                  0.0 -0.105638\n",
       "4                  0.0 -0.101614\n",
       "5                  0.0 -0.094123"
      ]
     },
     "execution_count": 9,
     "metadata": {},
     "output_type": "execute_result"
    }
   ],
   "source": [
    "df_coeff.head()  # models/\"top*0_001d_coeff\""
   ]
  },
  {
   "cell_type": "markdown",
   "metadata": {},
   "source": [
    "# Filtering by units"
   ]
  },
  {
   "cell_type": "code",
   "execution_count": 10,
   "metadata": {},
   "outputs": [],
   "source": [
    "# Define units per feature\n",
    "unit_ref = {'wlog': 'K',\n",
    "            'w2': 'K',\n",
    "            'lambd': 'dimensionless',\n",
    "            'mus': 'dimensionless'}\n",
    "\n",
    "# Set desired units\n",
    "target_units = \"[temperature]\"\n",
    "target_degree = 1"
   ]
  },
  {
   "cell_type": "code",
   "execution_count": 11,
   "metadata": {},
   "outputs": [
    {
     "name": "stderr",
     "output_type": "stream",
     "text": [
      "/home/sxiexie/anaconda3/envs/sru/lib/python3.6/site-packages/pint/quantity.py:1238: RuntimeWarning: divide by zero encountered in double_scalars\n",
      "  magnitude = magnitude_op(new_self._magnitude, other._magnitude)\n",
      "/home/sxiexie/anaconda3/envs/sru/lib/python3.6/site-packages/pint/quantity.py:1238: RuntimeWarning: invalid value encountered in double_scalars\n",
      "  magnitude = magnitude_op(new_self._magnitude, other._magnitude)\n"
     ]
    },
    {
     "name": "stdout",
     "output_type": "stream",
     "text": [
      "Filtered by units. Remaining: 345 / 1000\n"
     ]
    },
    {
     "name": "stderr",
     "output_type": "stream",
     "text": [
      "/home/sxiexie/anaconda3/envs/sru/lib/python3.6/site-packages/pint/quantity.py:1486: RuntimeWarning: divide by zero encountered in double_scalars\n",
      "  magnitude = new_self._magnitude ** exponent\n"
     ]
    }
   ],
   "source": [
    "filtered_indices = []\n",
    "for model_row in df_models.itertuples():\n",
    "    # loop over models, sorted by RMSE\n",
    "    idx, rmse, mae, feature_id = model_row\n",
    "    intercept, slope = df_coeff.loc[idx]\n",
    "    feature, correlation = df_features.loc[feature_id]\n",
    "    \n",
    "    dims, degree = dimensional_analysis.check_dimensionality(\n",
    "        feature, unit_ref)\n",
    "    \n",
    "    if dims == target_units and degree == target_degree:\n",
    "        filtered_indices.append(idx)\n",
    "\n",
    "print(\"Filtered by units. Remaining: {} / {}\".format(\n",
    "    len(filtered_indices), len(df_models)))"
   ]
  },
  {
   "cell_type": "markdown",
   "metadata": {},
   "source": [
    "# Filtering by other constraints"
   ]
  },
  {
   "cell_type": "code",
   "execution_count": 12,
   "metadata": {},
   "outputs": [],
   "source": [
    "feature_columns = [\"wlog\", \"lambd\", \"mus\"]"
   ]
  },
  {
   "cell_type": "code",
   "execution_count": 13,
   "metadata": {},
   "outputs": [
    {
     "name": "stdout",
     "output_type": "stream",
     "text": [
      "Validation points: 2446100\n"
     ]
    }
   ],
   "source": [
    "lambda_res = 401  # resolution: 0.01\n",
    "mus_res = 61  # resolution: 0.01\n",
    "wlog_res = 100  # resolution: 10 K\n",
    "\n",
    "lambda_range = np.linspace(0, 4, lambda_res)\n",
    "mus_range = np.linspace(0.1, 0.16, mus_res)\n",
    "wlog_range = np.linspace(10, 1000, wlog_res)\n",
    "\n",
    "lambda_range[0] += 1e-9  # evaluate one-sided limit\n",
    "\n",
    "validation_meshes = np.meshgrid(wlog_range, lambda_range, mus_range)\n",
    "validation_space = np.vstack([mesh.flatten() for mesh\n",
    "                              in validation_meshes]).T\n",
    "df_val = pd.DataFrame(columns=feature_columns,\n",
    "                      data=validation_space)\n",
    "print(\"Validation points:\", len(validation_space))"
   ]
  },
  {
   "cell_type": "code",
   "execution_count": 14,
   "metadata": {},
   "outputs": [
    {
     "name": "stdout",
     "output_type": "stream",
     "text": [
      "1 / 345\n",
      "2 / 345\n",
      "3 / 345\n",
      "4 / 345\n",
      "5 / 345\n",
      "6 / 345\n",
      "7 / 345\n",
      "8 / 345\n",
      "9 / 345\n",
      "10 / 345\n",
      "11 / 345\n",
      "12 / 345\n",
      "13 / 345\n",
      "14 / 345\n",
      "15 / 345\n",
      "16 / 345\n",
      "17 / 345\n",
      "18 / 345\n",
      "19 / 345\n",
      "20 / 345\n",
      "21 / 345\n",
      "22 / 345\n",
      "23 / 345\n",
      "24 / 345\n",
      "25 / 345\n",
      "26 / 345\n",
      "27 / 345\n",
      "28 / 345\n",
      "29 / 345\n",
      "30 / 345\n"
     ]
    },
    {
     "name": "stderr",
     "output_type": "stream",
     "text": [
      "<string>:3: RuntimeWarning: divide by zero encountered in true_divide\n",
      "/home/sxiexie/anaconda3/envs/sru/lib/python3.6/site-packages/numpy/lib/function_base.py:1068: RuntimeWarning: invalid value encountered in subtract\n",
      "  out[tuple(slice1)] = (f[tuple(slice4)] - f[tuple(slice2)]) / (2. * ax_dx)\n"
     ]
    },
    {
     "name": "stdout",
     "output_type": "stream",
     "text": [
      "31 / 345\n",
      "32 / 345\n",
      "33 / 345\n",
      "34 / 345\n",
      "35 / 345\n",
      "36 / 345\n",
      "37 / 345\n",
      "38 / 345\n",
      "39 / 345\n",
      "40 / 345\n",
      "41 / 345\n",
      "42 / 345\n",
      "43 / 345\n",
      "44 / 345\n",
      "45 / 345\n",
      "46 / 345\n",
      "47 / 345\n",
      "48 / 345\n",
      "49 / 345\n",
      "50 / 345\n",
      "51 / 345\n",
      "52 / 345\n",
      "53 / 345\n",
      "54 / 345\n",
      "55 / 345\n"
     ]
    },
    {
     "name": "stderr",
     "output_type": "stream",
     "text": [
      "<string>:3: RuntimeWarning: divide by zero encountered in true_divide\n"
     ]
    },
    {
     "name": "stdout",
     "output_type": "stream",
     "text": [
      "56 / 345\n",
      "57 / 345\n",
      "58 / 345\n",
      "59 / 345\n",
      "60 / 345\n",
      "61 / 345\n",
      "62 / 345\n",
      "63 / 345\n",
      "64 / 345\n",
      "65 / 345\n",
      "66 / 345\n",
      "67 / 345\n",
      "68 / 345\n",
      "69 / 345\n",
      "70 / 345\n",
      "71 / 345\n",
      "72 / 345\n",
      "73 / 345\n",
      "74 / 345\n",
      "75 / 345\n",
      "76 / 345\n",
      "77 / 345\n",
      "78 / 345\n",
      "79 / 345\n",
      "80 / 345\n",
      "81 / 345\n",
      "82 / 345\n",
      "83 / 345\n",
      "84 / 345\n",
      "85 / 345\n",
      "86 / 345\n",
      "87 / 345\n",
      "88 / 345\n",
      "89 / 345\n",
      "90 / 345\n",
      "91 / 345\n",
      "92 / 345\n",
      "93 / 345\n",
      "94 / 345\n",
      "95 / 345\n",
      "96 / 345\n",
      "97 / 345\n",
      "98 / 345\n",
      "99 / 345\n",
      "100 / 345\n",
      "101 / 345\n",
      "102 / 345\n",
      "103 / 345\n",
      "104 / 345\n",
      "105 / 345\n",
      "106 / 345\n",
      "107 / 345\n",
      "108 / 345\n",
      "109 / 345\n",
      "110 / 345\n",
      "111 / 345\n",
      "112 / 345\n",
      "113 / 345\n",
      "114 / 345\n",
      "115 / 345\n",
      "116 / 345\n",
      "117 / 345\n",
      "118 / 345\n",
      "119 / 345\n",
      "120 / 345\n",
      "121 / 345\n",
      "122 / 345\n",
      "123 / 345\n",
      "124 / 345\n",
      "125 / 345\n",
      "126 / 345\n",
      "127 / 345\n",
      "128 / 345\n",
      "129 / 345\n",
      "130 / 345\n",
      "131 / 345\n",
      "132 / 345\n",
      "133 / 345\n",
      "134 / 345\n",
      "135 / 345\n",
      "136 / 345\n",
      "137 / 345\n",
      "138 / 345\n",
      "139 / 345\n",
      "140 / 345\n",
      "141 / 345\n",
      "142 / 345\n",
      "143 / 345\n",
      "144 / 345\n",
      "145 / 345\n",
      "146 / 345\n",
      "147 / 345\n",
      "148 / 345\n",
      "149 / 345\n",
      "150 / 345\n",
      "151 / 345\n",
      "152 / 345\n",
      "153 / 345\n",
      "154 / 345\n",
      "155 / 345\n",
      "156 / 345\n",
      "157 / 345\n",
      "158 / 345\n",
      "159 / 345\n",
      "160 / 345\n",
      "161 / 345\n",
      "162 / 345\n",
      "163 / 345\n",
      "164 / 345\n",
      "165 / 345\n",
      "166 / 345\n",
      "167 / 345\n",
      "168 / 345\n",
      "169 / 345\n",
      "170 / 345\n",
      "171 / 345\n",
      "172 / 345\n",
      "173 / 345\n",
      "174 / 345\n",
      "175 / 345\n",
      "176 / 345\n",
      "177 / 345\n",
      "178 / 345\n",
      "179 / 345\n",
      "180 / 345\n",
      "181 / 345\n",
      "182 / 345\n",
      "183 / 345\n",
      "184 / 345\n",
      "185 / 345\n",
      "186 / 345\n",
      "187 / 345\n",
      "188 / 345\n",
      "189 / 345\n",
      "190 / 345\n",
      "191 / 345\n",
      "192 / 345\n",
      "193 / 345\n",
      "194 / 345\n",
      "195 / 345\n",
      "196 / 345\n",
      "197 / 345\n",
      "198 / 345\n",
      "199 / 345\n",
      "200 / 345\n",
      "201 / 345\n"
     ]
    },
    {
     "name": "stderr",
     "output_type": "stream",
     "text": [
      "<string>:3: RuntimeWarning: invalid value encountered in sqrt\n"
     ]
    },
    {
     "name": "stdout",
     "output_type": "stream",
     "text": [
      "202 / 345\n",
      "203 / 345\n",
      "204 / 345\n",
      "205 / 345\n",
      "206 / 345\n",
      "207 / 345\n"
     ]
    },
    {
     "name": "stderr",
     "output_type": "stream",
     "text": [
      "<string>:3: RuntimeWarning: invalid value encountered in sqrt\n",
      "<string>:3: RuntimeWarning: invalid value encountered in sqrt\n"
     ]
    },
    {
     "name": "stdout",
     "output_type": "stream",
     "text": [
      "208 / 345\n",
      "209 / 345\n",
      "210 / 345\n",
      "211 / 345\n",
      "212 / 345\n",
      "213 / 345\n",
      "214 / 345\n",
      "215 / 345\n",
      "216 / 345\n",
      "217 / 345\n",
      "218 / 345\n",
      "219 / 345\n",
      "220 / 345\n",
      "221 / 345\n",
      "222 / 345\n",
      "223 / 345\n",
      "224 / 345\n",
      "225 / 345\n"
     ]
    },
    {
     "name": "stderr",
     "output_type": "stream",
     "text": [
      "<string>:3: RuntimeWarning: divide by zero encountered in true_divide\n"
     ]
    },
    {
     "name": "stdout",
     "output_type": "stream",
     "text": [
      "226 / 345\n",
      "227 / 345\n",
      "228 / 345\n",
      "229 / 345\n",
      "230 / 345\n",
      "231 / 345\n",
      "232 / 345\n",
      "233 / 345\n",
      "234 / 345\n",
      "235 / 345\n",
      "236 / 345\n",
      "237 / 345\n",
      "238 / 345\n",
      "239 / 345\n",
      "240 / 345\n",
      "241 / 345\n",
      "242 / 345\n",
      "243 / 345\n",
      "244 / 345\n",
      "245 / 345\n"
     ]
    },
    {
     "name": "stderr",
     "output_type": "stream",
     "text": [
      "<string>:3: RuntimeWarning: divide by zero encountered in true_divide\n"
     ]
    },
    {
     "name": "stdout",
     "output_type": "stream",
     "text": [
      "246 / 345\n",
      "247 / 345\n",
      "248 / 345\n",
      "249 / 345\n",
      "250 / 345\n",
      "251 / 345\n",
      "252 / 345\n",
      "253 / 345\n",
      "254 / 345\n",
      "255 / 345\n",
      "256 / 345\n",
      "257 / 345\n",
      "258 / 345\n",
      "259 / 345\n",
      "260 / 345\n",
      "261 / 345\n",
      "262 / 345\n",
      "263 / 345\n",
      "264 / 345\n",
      "265 / 345\n",
      "266 / 345\n",
      "267 / 345\n",
      "268 / 345\n",
      "269 / 345\n",
      "270 / 345\n",
      "271 / 345\n",
      "272 / 345\n",
      "273 / 345\n",
      "274 / 345\n",
      "275 / 345\n",
      "276 / 345\n",
      "277 / 345\n",
      "278 / 345\n",
      "279 / 345\n",
      "280 / 345\n",
      "281 / 345\n",
      "282 / 345\n",
      "283 / 345\n",
      "284 / 345\n",
      "285 / 345\n",
      "286 / 345\n",
      "287 / 345\n",
      "288 / 345\n",
      "289 / 345\n",
      "290 / 345\n",
      "291 / 345\n",
      "292 / 345\n",
      "293 / 345\n",
      "294 / 345\n",
      "295 / 345\n",
      "296 / 345\n",
      "297 / 345\n",
      "298 / 345\n",
      "299 / 345\n",
      "300 / 345\n",
      "301 / 345\n",
      "302 / 345\n",
      "303 / 345\n",
      "304 / 345\n",
      "305 / 345\n",
      "306 / 345\n",
      "307 / 345\n",
      "308 / 345\n",
      "309 / 345\n",
      "310 / 345\n",
      "311 / 345\n",
      "312 / 345\n",
      "313 / 345\n",
      "314 / 345\n",
      "315 / 345\n",
      "316 / 345\n",
      "317 / 345\n",
      "318 / 345\n",
      "319 / 345\n",
      "320 / 345\n",
      "321 / 345\n",
      "322 / 345\n",
      "323 / 345\n",
      "324 / 345\n",
      "325 / 345\n",
      "326 / 345\n",
      "327 / 345\n",
      "328 / 345\n",
      "329 / 345\n",
      "330 / 345\n",
      "331 / 345\n",
      "332 / 345\n",
      "333 / 345\n",
      "334 / 345\n",
      "335 / 345\n",
      "336 / 345\n",
      "337 / 345\n",
      "338 / 345\n",
      "339 / 345\n",
      "340 / 345\n",
      "341 / 345\n",
      "342 / 345\n",
      "343 / 345\n",
      "344 / 345\n",
      "345 / 345\n"
     ]
    }
   ],
   "source": [
    "transform = \"({}) / wlog\"  # normalize\n",
    "\n",
    "idx_pass = []\n",
    "checks_fail = {}\n",
    "for idx in tqdm(filtered_indices):\n",
    "    feature_id = df_models.loc[idx, \"feature id\"]\n",
    "    expr = df_features.loc[feature_id, \"Feature\"]\n",
    "    expr = transform.format(expr)\n",
    "    coeff = tuple(df_coeff.loc[idx][::-1])\n",
    "\n",
    "    values, _ = regression.evaluate_model(expr,\n",
    "                                          df_val,\n",
    "                                          feature_columns,\n",
    "                                          coeff)\n",
    "    \n",
    "    lambda_sort = np.argsort(validation_space[:, 1])\n",
    "    unique_lambda, counts = np.unique(validation_space[:, 1],\n",
    "                                      return_counts=True)\n",
    "    split_indices = np.cumsum(counts)[:-1]\n",
    "\n",
    "    split_values = np.array_split(values[lambda_sort], split_indices)\n",
    "    lower_curve = np.array([np.min(batch) for batch in split_values])\n",
    "    upper_curve = np.array([np.max(batch) for batch in split_values])\n",
    "    \n",
    "    lower_gradient = np.gradient(lower_curve)\n",
    "    upper_gradient = np.gradient(upper_curve)\n",
    "\n",
    "    checks = [np.all(np.isfinite(values)),  # finite\n",
    "              np.all(values > 0),           # strictly positive\n",
    "              np.all(lower_gradient>=0),    # monotonic\n",
    "              np.all(upper_gradient>=0),    # monotonic\n",
    "              lower_gradient[0] < 1e-3,     # lambda limit\n",
    "              upper_gradient[0] < 1e-3,     # lambda limit\n",
    "              ]\n",
    "\n",
    "    if np.all(checks):\n",
    "        idx_pass.append(idx)\n",
    "    else:\n",
    "        checks_fail[idx] = checks"
   ]
  },
  {
   "cell_type": "code",
   "execution_count": 15,
   "metadata": {},
   "outputs": [
    {
     "name": "stdout",
     "output_type": "stream",
     "text": [
      "Filtered by physical constraints. Remaining: 82 / 345\n"
     ]
    }
   ],
   "source": [
    "print(\"Filtered by physical constraints. Remaining: {} / {}\".format(\n",
    "    len(idx_pass), len(filtered_indices)))"
   ]
  },
  {
   "cell_type": "markdown",
   "metadata": {},
   "source": [
    "# Summarizing filtered models"
   ]
  },
  {
   "cell_type": "code",
   "execution_count": 16,
   "metadata": {},
   "outputs": [],
   "source": [
    "rmse_list = df_models.loc[idx_pass, \"rmse\"]\n",
    "features_idx = df_models.loc[idx_pass, \"feature id\"].values\n",
    "features_list = df_features.loc[features_idx, \"Feature\"]\n",
    "slope_list = df_coeff.loc[idx_pass, \"slope\"]\n"
   ]
  },
  {
   "cell_type": "code",
   "execution_count": 17,
   "metadata": {},
   "outputs": [],
   "source": [
    "data = np.vstack([rmse_list, slope_list]).T\n",
    "df_summary = pd.DataFrame(data=data, \n",
    "                          columns=[\"RMSE\", \"Coeff.\"], \n",
    "                          index=features_list)"
   ]
  },
  {
   "cell_type": "code",
   "execution_count": 18,
   "metadata": {},
   "outputs": [
    {
     "data": {
      "text/html": [
       "<div>\n",
       "<style scoped>\n",
       "    .dataframe tbody tr th:only-of-type {\n",
       "        vertical-align: middle;\n",
       "    }\n",
       "\n",
       "    .dataframe tbody tr th {\n",
       "        vertical-align: top;\n",
       "    }\n",
       "\n",
       "    .dataframe thead th {\n",
       "        text-align: right;\n",
       "    }\n",
       "</style>\n",
       "<table border=\"1\" class=\"dataframe\">\n",
       "  <thead>\n",
       "    <tr style=\"text-align: right;\">\n",
       "      <th></th>\n",
       "      <th>RMSE</th>\n",
       "      <th>Coeff.</th>\n",
       "    </tr>\n",
       "    <tr>\n",
       "      <th>Feature</th>\n",
       "      <th></th>\n",
       "      <th></th>\n",
       "    </tr>\n",
       "  </thead>\n",
       "  <tbody>\n",
       "    <tr>\n",
       "      <th>(((lambd)^3*(wlog*lambd))/((lambd)^3+sqrt(mus)))</th>\n",
       "      <td>0.251624</td>\n",
       "      <td>0.095264</td>\n",
       "    </tr>\n",
       "    <tr>\n",
       "      <th>((exp(-lambd)-exp(mus))*(log(mus)*(wlog*lambd)))</th>\n",
       "      <td>0.345276</td>\n",
       "      <td>0.041190</td>\n",
       "    </tr>\n",
       "    <tr>\n",
       "      <th>((exp(-lambd)-exp(mus))*((wlog*lambd)/sqrt(mus)))</th>\n",
       "      <td>0.350186</td>\n",
       "      <td>-0.029923</td>\n",
       "    </tr>\n",
       "    <tr>\n",
       "      <th>(((wlog*lambd)/exp(lambd))-(wlog*lambd))</th>\n",
       "      <td>0.354138</td>\n",
       "      <td>-0.108653</td>\n",
       "    </tr>\n",
       "    <tr>\n",
       "      <th>((log(mus)*(lambd)^2)/((wlog)^-1+(lambd/wlog)))</th>\n",
       "      <td>0.361629</td>\n",
       "      <td>-0.060127</td>\n",
       "    </tr>\n",
       "    <tr>\n",
       "      <th>...</th>\n",
       "      <td>...</td>\n",
       "      <td>...</td>\n",
       "    </tr>\n",
       "    <tr>\n",
       "      <th>(((lambd)^3*(wlog*lambd))/((lambd)^3+(mus+lambd)))</th>\n",
       "      <td>0.680469</td>\n",
       "      <td>0.125574</td>\n",
       "    </tr>\n",
       "    <tr>\n",
       "      <th>(((lambd)^2*(wlog/mus))/(lambd+(lambd)^-1))</th>\n",
       "      <td>0.694425</td>\n",
       "      <td>0.011984</td>\n",
       "    </tr>\n",
       "    <tr>\n",
       "      <th>(((lambd)^2*(wlog/mus))/((lambd)^-1+(mus+lambd)))</th>\n",
       "      <td>0.718787</td>\n",
       "      <td>0.012481</td>\n",
       "    </tr>\n",
       "    <tr>\n",
       "      <th>(((lambd)^3*(wlog*lambd))/((lambd)^3+sqrt(lambd)))</th>\n",
       "      <td>0.750743</td>\n",
       "      <td>0.117304</td>\n",
       "    </tr>\n",
       "    <tr>\n",
       "      <th>(((lambd)^3*(wlog/mus))/((lambd)^2+(lambd)^-1))</th>\n",
       "      <td>0.969725</td>\n",
       "      <td>0.010934</td>\n",
       "    </tr>\n",
       "  </tbody>\n",
       "</table>\n",
       "<p>82 rows × 2 columns</p>\n",
       "</div>"
      ],
      "text/plain": [
       "                                                        RMSE    Coeff.\n",
       "Feature                                                               \n",
       "(((lambd)^3*(wlog*lambd))/((lambd)^3+sqrt(mus)))    0.251624  0.095264\n",
       "((exp(-lambd)-exp(mus))*(log(mus)*(wlog*lambd)))    0.345276  0.041190\n",
       "((exp(-lambd)-exp(mus))*((wlog*lambd)/sqrt(mus)))   0.350186 -0.029923\n",
       "(((wlog*lambd)/exp(lambd))-(wlog*lambd))            0.354138 -0.108653\n",
       "((log(mus)*(lambd)^2)/((wlog)^-1+(lambd/wlog)))     0.361629 -0.060127\n",
       "...                                                      ...       ...\n",
       "(((lambd)^3*(wlog*lambd))/((lambd)^3+(mus+lambd)))  0.680469  0.125574\n",
       "(((lambd)^2*(wlog/mus))/(lambd+(lambd)^-1))         0.694425  0.011984\n",
       "(((lambd)^2*(wlog/mus))/((lambd)^-1+(mus+lambd)))   0.718787  0.012481\n",
       "(((lambd)^3*(wlog*lambd))/((lambd)^3+sqrt(lambd)))  0.750743  0.117304\n",
       "(((lambd)^3*(wlog/mus))/((lambd)^2+(lambd)^-1))     0.969725  0.010934\n",
       "\n",
       "[82 rows x 2 columns]"
      ]
     },
     "execution_count": 18,
     "metadata": {},
     "output_type": "execute_result"
    }
   ],
   "source": [
    "df_summary"
   ]
  },
  {
   "cell_type": "markdown",
   "metadata": {},
   "source": [
    "# Visualizing filtered models"
   ]
  },
  {
   "cell_type": "code",
   "execution_count": 19,
   "metadata": {},
   "outputs": [
    {
     "name": "stdout",
     "output_type": "stream",
     "text": [
      "Plotting points: 401\n"
     ]
    }
   ],
   "source": [
    "lambda_res = 401  # resolution: 0.01\n",
    "lambda_range = np.linspace(0, 4, lambda_res)\n",
    "lambda_range[0] = 1e-9\n",
    "wlog_range = [50]\n",
    "mus_range = [0.1]\n",
    "\n",
    "validation_meshes = np.meshgrid(wlog_range, lambda_range, mus_range)\n",
    "validation_space = np.vstack([mesh.flatten() for mesh\n",
    "                              in validation_meshes]).T\n",
    "df_val = pd.DataFrame(columns=feature_columns,\n",
    "                      data=validation_space)\n",
    "print(\"Plotting points:\", len(validation_space))"
   ]
  },
  {
   "cell_type": "code",
   "execution_count": 24,
   "metadata": {},
   "outputs": [
    {
     "data": {
      "image/png": "[encoded data removed]",
      "text/plain": [
       "<Figure size 525x450 with 1 Axes>"
      ]
     },
     "metadata": {
      "needs_background": "light"
     },
     "output_type": "display_data"
    }
   ],
   "source": [
    "import matplotlib.pyplot as plt\n",
    "\n",
    "plt.figure(figsize=(3.5, 3), dpi=150)\n",
    "for i, (expr, slope) in enumerate(zip(features_list, slope_list)):\n",
    "    coeff = (slope, 0)\n",
    "    \n",
    "    expr = transform.format(expr)\n",
    "    \n",
    "    values, _ = regression.evaluate_model(expr,\n",
    "                                          df_val,\n",
    "                                          feature_columns,\n",
    "                                          coeff)\n",
    "    if i == 0:\n",
    "        plt.plot(lambda_range, \n",
    "                 values, \n",
    "                 linewidth=3, \n",
    "                 color='cornflowerblue',\n",
    "                 zorder=10)\n",
    "    else:\n",
    "        plt.plot(lambda_range, values, linewidth=1, color='k', alpha=0.5)\n",
    "plt.plot([], [], linewidth=3, color='cornflowerblue', label=\"Best Equation\")\n",
    "plt.plot([], [], linewidth=1, color='k', alpha=0.1, label=\"Eq. 2 ~ {}\".format(len(features_list)))\n",
    "plt.legend(loc='lower right')\n",
    "plt.xlim(0, 4)\n",
    "plt.ylim(0, 0.34)\n",
    "plt.xlabel(\"$\\lambda$\")\n",
    "plt.ylabel(\"$T_C / \\omega_{log}$\")\n",
    "plt.tight_layout()"
   ]
  },
  {
   "cell_type": "code",
   "execution_count": null,
   "metadata": {},
   "outputs": [],
   "source": []
  }
 ],
 "metadata": {
  "kernelspec": {
   "display_name": "Python 3",
   "language": "python",
   "name": "python3"
  },
  "language_info": {
   "codemirror_mode": {
    "name": "ipython",
    "version": 3
   },
   "file_extension": ".py",
   "mimetype": "text/x-python",
   "name": "python",
   "nbconvert_exporter": "python",
   "pygments_lexer": "ipython3",
   "version": "3.6.13"
  }
 },
 "nbformat": 4,
 "nbformat_minor": 4
}
